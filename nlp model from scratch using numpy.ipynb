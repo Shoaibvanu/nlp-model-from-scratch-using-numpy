{
 "cells": [
  {
   "cell_type": "markdown",
   "id": "86b6f4c8-0d23-4388-ad99-e7a058489a57",
   "metadata": {},
   "source": [
    "#                           BUILDING A SIMPLE NEURAL NETWORK MODEL FROM SCRATCH \n",
    "____________________________________________________________"
   ]
  },
  {
   "cell_type": "markdown",
   "id": "154de0d2-08f4-421c-b88b-9f205ff9c42b",
   "metadata": {},
   "source": [
    "## Steps involved in building a Neural Network in Numpy"
   ]
  },
  {
   "cell_type": "markdown",
   "id": "dbacd821-5e0a-4211-8082-5f87865d7207",
   "metadata": {},
   "source": [
    " 1. loading the data (input and output)\n",
    " 2. Architecture of the model (input layer, hidden layer, output layer)\n",
    " 3. initializing the weights for all the layers\n",
    " 4. implementing forward propogation\n",
    " 5. implementing backward propogation\n",
    " 6. train model for no. of epochs"
   ]
  },
  {
   "cell_type": "markdown",
   "id": "44474e9c-f689-4276-a335-fc67e889ecd4",
   "metadata": {},
   "source": [
    "# 1. Loading the dataset (input and output)"
   ]
  },
  {
   "cell_type": "code",
   "execution_count": 2,
   "id": "c5c56151-d86e-4181-986f-2bf8ad8ad095",
   "metadata": {},
   "outputs": [],
   "source": [
    "# importing all the required libraries\n",
    "import numpy as np\n",
    "import matplotlib\n",
    "import matplotlib.pyplot as plt\n",
    "%matplotlib inLine"
   ]
  },
  {
   "cell_type": "code",
   "execution_count": 3,
   "id": "9c693f02-8796-4d4f-bc4f-94b3d4326d2e",
   "metadata": {},
   "outputs": [
    {
     "name": "stdout",
     "output_type": "stream",
     "text": [
      "\n",
      " INPUT: \n",
      "[[1 0 1 1]\n",
      " [1 0 1 1]\n",
      " [0 1 0 1]]\n",
      "\n",
      " shape of the input is:  (3, 4)\n"
     ]
    }
   ],
   "source": [
    "# creating the input array\n",
    "X=np.array([[1,0,1,1], [1,0,1,1], [0,1,0,1]])\n",
    "print(\"\\n INPUT: \")\n",
    "print(X)\n",
    "# checking the shape of the input\n",
    "print(\"\\n shape of the input is: \", X.shape)"
   ]
  },
  {
   "cell_type": "markdown",
   "id": "931971f7-e327-4b05-b874-357c133fb7f6",
   "metadata": {},
   "source": [
    "As we can see that we have 3 observations and 4 features so to do matrix multiplication we need to keep features first and observation next. so to obtain this results we take transpose of this matrix."
   ]
  },
  {
   "cell_type": "code",
   "execution_count": 4,
   "id": "ce202ed8-c278-404f-b920-161a0dce0caf",
   "metadata": {},
   "outputs": [
    {
     "name": "stdout",
     "output_type": "stream",
     "text": [
      "\n",
      " input in matrix form is: \n",
      "[[1 1 0]\n",
      " [0 0 1]\n",
      " [1 1 0]\n",
      " [1 1 1]]\n",
      "\n",
      " shape of the input is:  (4, 3)\n"
     ]
    }
   ],
   "source": [
    "#converting it to matrix form\n",
    "X=X.T\n",
    "print(\"\\n input in matrix form is: \")\n",
    "print(X)\n",
    "# checking the shape of the input\n",
    "print(\"\\n shape of the input is: \", X.shape)"
   ]
  },
  {
   "cell_type": "markdown",
   "id": "16f9c5f0-6cc1-4a07-8e48-344653fb1c97",
   "metadata": {},
   "source": [
    "As  we can see we have 4 features first and than observation so multiplication is possible"
   ]
  },
  {
   "cell_type": "code",
   "execution_count": 5,
   "id": "0afd63bb-4ef3-4449-9f25-ece147cbb1d5",
   "metadata": {},
   "outputs": [
    {
     "name": "stdout",
     "output_type": "stream",
     "text": [
      "\n",
      " Actual output: \n",
      "[[1]\n",
      " [1]\n",
      " [0]]\n",
      "\n",
      " Actual output in matrix form is: \n",
      "[[1 1 0]]\n",
      "\n",
      " shape of the output is:  (1, 3)\n"
     ]
    }
   ],
   "source": [
    "Y=np.array([[1], [1], [0]])\n",
    "print(\"\\n Actual output: \")\n",
    "print(Y)\n",
    "#converting it to matrix form\n",
    "Y=Y.T\n",
    "print(\"\\n Actual output in matrix form is: \")\n",
    "print(Y)\n",
    "# checking the shape of the input\n",
    "print(\"\\n shape of the output is: \", Y.shape)"
   ]
  },
  {
   "cell_type": "markdown",
   "id": "0214727b-6f00-4cc1-8abf-6d179fea7404",
   "metadata": {},
   "source": [
    "# 2. Architecture of the model(input layer, hidden layer, output neuroons)"
   ]
  },
  {
   "cell_type": "code",
   "execution_count": 6,
   "id": "6843a670-e139-47b2-ae91-8709cf78ab7c",
   "metadata": {},
   "outputs": [],
   "source": [
    "inputlayer_neurons = X.shape[0] # number of features in the data set\n",
    "hiddenlayer_neurons = 3 # number of hidden layers neurons\n",
    "output_layer = 1 # number of neurons at output layer"
   ]
  },
  {
   "cell_type": "markdown",
   "id": "927ae61a-afc8-424f-8359-ef3fc290ba57",
   "metadata": {},
   "source": [
    "# 3. initializing the weights for all the layers"
   ]
  },
  {
   "cell_type": "markdown",
   "id": "2e11627a-848a-4986-aa0c-93593cce4fd8",
   "metadata": {},
   "source": [
    "Note: for simplicity i am considering that the bias for all the layers to be 0"
   ]
  },
  {
   "cell_type": "code",
   "execution_count": 7,
   "id": "0695b88c-1893-4759-a03d-dc1db9f782dc",
   "metadata": {},
   "outputs": [],
   "source": [
    "# initializing the weights\n",
    "# shape of W_ih should be number of neurons at the input layer x number of neurons at the hidden layer\n",
    "\n",
    "w_ih=np.random.uniform(size=(inputlayer_neurons,hiddenlayer_neurons))\n",
    "\n",
    "# shape of W_ho should be number of neurons at the hidden layer x number of neurons at the output layer\n",
    "w_ho=np.random.uniform(size=(hiddenlayer_neurons,output_layer))"
   ]
  },
  {
   "cell_type": "code",
   "execution_count": 8,
   "id": "333c67c0-0711-4d54-8449-60d1b69cfcb6",
   "metadata": {},
   "outputs": [
    {
     "data": {
      "text/plain": [
       "((4, 3), (3, 1))"
      ]
     },
     "execution_count": 8,
     "metadata": {},
     "output_type": "execute_result"
    }
   ],
   "source": [
    "# checking shape of weight matrix\n",
    "w_ih.shape , w_ho.shape"
   ]
  },
  {
   "cell_type": "markdown",
   "id": "886b91de-5060-41aa-88f8-0abca7700445",
   "metadata": {},
   "source": [
    "# 4. implementing forward propogation"
   ]
  },
  {
   "cell_type": "code",
   "execution_count": 9,
   "id": "a4a6deed-d9a8-4792-a3ae-75c64e4f28c2",
   "metadata": {},
   "outputs": [],
   "source": [
    "# defining the sigmoid function as activation function\n",
    "\n",
    "def sigmoid (x):\n",
    "    return 1/(1 + np.exp(-x))"
   ]
  },
  {
   "cell_type": "code",
   "execution_count": 10,
   "id": "cf5cebba-cf4d-4183-abd1-ddb2b13b8683",
   "metadata": {},
   "outputs": [],
   "source": [
    "# hidden layer activations\n",
    "\n",
    "hidden_layer_input=np.dot(w_ih.T,X) #calculating z1 \n",
    "hiddenlayer_activations = sigmoid(hidden_layer_input)"
   ]
  },
  {
   "cell_type": "code",
   "execution_count": 11,
   "id": "2ad9c830-52f4-4d04-a3ce-605d6c28f361",
   "metadata": {},
   "outputs": [],
   "source": [
    "# calculating the output\n",
    "output_layer_input=np.dot(w_ho.T,hiddenlayer_activations) #calculating z2 \n",
    "output = sigmoid(output_layer_input)"
   ]
  },
  {
   "cell_type": "code",
   "execution_count": 12,
   "id": "7371243a-68e0-4646-a475-7ddad4362f85",
   "metadata": {},
   "outputs": [
    {
     "data": {
      "text/plain": [
       "array([[0.83833017, 0.83833017, 0.80185863]])"
      ]
     },
     "execution_count": 12,
     "metadata": {},
     "output_type": "execute_result"
    }
   ],
   "source": [
    "output\n"
   ]
  },
  {
   "cell_type": "markdown",
   "id": "f71a131a-6246-4b67-a03e-5062fdd03053",
   "metadata": {},
   "source": [
    "# 4. implementing backward propogation"
   ]
  },
  {
   "cell_type": "code",
   "execution_count": 13,
   "id": "22e8285c-659e-4503-aa7a-67b3bff16a4b",
   "metadata": {},
   "outputs": [
    {
     "data": {
      "text/plain": [
       "array([[0.01306857, 0.01306857, 0.32148863]])"
      ]
     },
     "execution_count": 13,
     "metadata": {},
     "output_type": "execute_result"
    }
   ],
   "source": [
    "# calculating error\n",
    "\n",
    "error = np.square(Y-output)/2\n",
    "error"
   ]
  },
  {
   "cell_type": "markdown",
   "id": "78fefc8c-f03c-480c-ac9f-6d90c11f236c",
   "metadata": {},
   "source": [
    "**AS PER THEORY(MATHS)**\n",
    "\n",
    "1. WE FIRST CALCULATE RATE OF CHANGE OF ERROR W.R.T OUTPUT\n",
    "2. RATE OF CHANGE OF OUTPUT W.R.T z2\n",
    "3. Rate of change of z2 w.r.t weight between hidden and output layers"
   ]
  },
  {
   "cell_type": "code",
   "execution_count": 17,
   "id": "b545cd25-7633-47a4-befe-57af3c5150ea",
   "metadata": {},
   "outputs": [
    {
     "data": {
      "text/plain": [
       "array([[-0.16166983, -0.16166983,  0.80185863]])"
      ]
     },
     "execution_count": 17,
     "metadata": {},
     "output_type": "execute_result"
    }
   ],
   "source": [
    "#calculating rate of change of error w.r.t output\n",
    "\n",
    "error_wrt_OUTPUT= -(Y-output)\n",
    "error_wrt_OUTPUT"
   ]
  },
  {
   "cell_type": "code",
   "execution_count": 19,
   "id": "66bc32ae-3bf8-4c4d-a07e-bbc96df359d1",
   "metadata": {},
   "outputs": [
    {
     "data": {
      "text/plain": [
       "array([[0.1355327 , 0.1355327 , 0.15888137]])"
      ]
     },
     "execution_count": 19,
     "metadata": {},
     "output_type": "execute_result"
    }
   ],
   "source": [
    "#calculating rate of change of output w.r.t z2\n",
    "output_wrt_z2 = np.multiply(output,(1-output))\n",
    "output_wrt_z2"
   ]
  },
  {
   "cell_type": "code",
   "execution_count": 21,
   "id": "9f0bcfc8-57cb-46a7-85b9-a6ced32392cc",
   "metadata": {},
   "outputs": [
    {
     "data": {
      "text/plain": [
       "array([[0.69083994, 0.69083994, 0.60035523],\n",
       "       [0.81720514, 0.81720514, 0.73099965],\n",
       "       [0.87773269, 0.87773269, 0.6896029 ]])"
      ]
     },
     "execution_count": 21,
     "metadata": {},
     "output_type": "execute_result"
    }
   ],
   "source": [
    "#calculating rate of change of z2 w.r.t weights between hidden and output layer\n",
    "\n",
    "z2_wrt_who = hiddenlayer_activations\n",
    "\n",
    "z2_wrt_who "
   ]
  },
  {
   "cell_type": "code",
   "execution_count": 22,
   "id": "497352f2-de9f-45a7-91ed-74c24723ee20",
   "metadata": {},
   "outputs": [
    {
     "data": {
      "text/plain": [
       "((1, 3), (1, 3), (3, 3))"
      ]
     },
     "execution_count": 22,
     "metadata": {},
     "output_type": "execute_result"
    }
   ],
   "source": [
    "error_wrt_OUTPUT.shape, output_wrt_z2.shape, z2_wrt_who.shape"
   ]
  },
  {
   "cell_type": "code",
   "execution_count": 23,
   "id": "192871ed-b275-41c4-8329-7b3da858c622",
   "metadata": {},
   "outputs": [
    {
     "data": {
      "text/plain": [
       "(3, 1)"
      ]
     },
     "execution_count": 23,
     "metadata": {},
     "output_type": "execute_result"
    }
   ],
   "source": [
    "w_ho.shape"
   ]
  },
  {
   "cell_type": "code",
   "execution_count": 25,
   "id": "d42fe798-923c-4b19-a5a6-94ea1ff4c71f",
   "metadata": {},
   "outputs": [],
   "source": [
    "error_wrt_who = np.dot(z2_wrt_who ,(error_wrt_OUTPUT * output_wrt_z2).T)"
   ]
  },
  {
   "cell_type": "code",
   "execution_count": 26,
   "id": "c50b1a4d-dc13-4b54-a02d-a526621d26e2",
   "metadata": {},
   "outputs": [
    {
     "data": {
      "text/plain": [
       "array([[0.04621075],\n",
       "       [0.05731719],\n",
       "       [0.04939072]])"
      ]
     },
     "execution_count": 26,
     "metadata": {},
     "output_type": "execute_result"
    }
   ],
   "source": [
    "error_wrt_who"
   ]
  },
  {
   "cell_type": "markdown",
   "id": "1a41070c-cace-4cea-8c50-609ea0b17300",
   "metadata": {},
   "source": [
    "### Now lets calculate with respect to input and hidden layer "
   ]
  },
  {
   "cell_type": "markdown",
   "id": "aa95d4ca-e8c2-4d51-812b-ebc6f6eac441",
   "metadata": {},
   "source": [
    "1. rate of change of error with respect to output\n",
    "2. rate of change of output w.r.t z2\n",
    "3. rate of change of z2 w.r.t hidden layer activations\n",
    "4. rate of change of h1 w.r.t to z1\n",
    "5. rate of change of z1 W.R.T weight between input and hidden layer"
   ]
  },
  {
   "cell_type": "code",
   "execution_count": 27,
   "id": "8f1025c3-6c64-49d7-b69e-53252d7cca0a",
   "metadata": {},
   "outputs": [],
   "source": [
    "# rate of change of error w.r.t output\n",
    "error_wrt_OUTPUT= -(Y-output)"
   ]
  },
  {
   "cell_type": "code",
   "execution_count": 28,
   "id": "3db86ea2-d4ed-4594-aafe-da95c63d051e",
   "metadata": {},
   "outputs": [],
   "source": [
    "#calculating rate of change of output w.r.t z2\n",
    "output_wrt_z2 = np.multiply(output,(1-output))"
   ]
  },
  {
   "cell_type": "code",
   "execution_count": 29,
   "id": "de9c0fec-5178-4276-9781-0187d2de9351",
   "metadata": {},
   "outputs": [],
   "source": [
    "#rate of change of z2 w.r.t hidden layer activations\n",
    "z2_wrt_h1=w_ho"
   ]
  },
  {
   "cell_type": "code",
   "execution_count": 32,
   "id": "43e854f5-9147-4a0d-b07d-f8cb083694cd",
   "metadata": {},
   "outputs": [],
   "source": [
    "#rate of change of h1 w.r.t to z1\n",
    "h1_wrt_z1= np.multiply(hiddenlayer_activations,(1-hiddenlayer_activations))\n"
   ]
  },
  {
   "cell_type": "code",
   "execution_count": 33,
   "id": "8b4c0d1e-a484-497b-a593-b4e48e4e7a4d",
   "metadata": {},
   "outputs": [],
   "source": [
    "#rate of change of z1 W.R.T weight between input and hidden layer\n",
    "z1_wrt_wih = X"
   ]
  },
  {
   "cell_type": "code",
   "execution_count": 34,
   "id": "a12cd5ab-ef32-4973-b28c-81d5012115eb",
   "metadata": {},
   "outputs": [
    {
     "data": {
      "text/plain": [
       "((1, 3), (1, 3), (3, 1), (3, 3), (4, 3))"
      ]
     },
     "execution_count": 34,
     "metadata": {},
     "output_type": "execute_result"
    }
   ],
   "source": [
    "error_wrt_OUTPUT.shape, output_wrt_z2.shape, z2_wrt_h1.shape, h1_wrt_z1.shape, z1_wrt_wih.shape"
   ]
  },
  {
   "cell_type": "code",
   "execution_count": 36,
   "id": "a2c19ee0-bed2-4822-85d0-6054e7d1999d",
   "metadata": {},
   "outputs": [
    {
     "data": {
      "text/plain": [
       "(4, 3)"
      ]
     },
     "execution_count": 36,
     "metadata": {},
     "output_type": "execute_result"
    }
   ],
   "source": [
    "w_ih.shape"
   ]
  },
  {
   "cell_type": "code",
   "execution_count": 40,
   "id": "9a6016a1-2faf-4c57-a6f2-55985207abb1",
   "metadata": {},
   "outputs": [
    {
     "data": {
      "text/plain": [
       "array([[-0.00748271, -0.0043291 , -0.0029638 ],\n",
       "       [ 0.02443702,  0.01656687,  0.01718543],\n",
       "       [-0.00748271, -0.0043291 , -0.0029638 ],\n",
       "       [ 0.01695431,  0.01223777,  0.01422163]])"
      ]
     },
     "execution_count": 40,
     "metadata": {},
     "output_type": "execute_result"
    }
   ],
   "source": [
    "error_wrt_wih = np.dot(z1_wrt_wih,(h1_wrt_z1*np.dot(z2_wrt_h1,(output_wrt_z2*error_wrt_OUTPUT))).T) \n",
    "error_wrt_wih"
   ]
  },
  {
   "cell_type": "code",
   "execution_count": 41,
   "id": "04e30fce-41d5-47dd-b5b8-415b3ba15734",
   "metadata": {},
   "outputs": [
    {
     "data": {
      "text/plain": [
       "(4, 3)"
      ]
     },
     "execution_count": 41,
     "metadata": {},
     "output_type": "execute_result"
    }
   ],
   "source": [
    "error_wrt_wih.shape"
   ]
  },
  {
   "cell_type": "markdown",
   "id": "590a7ba0-60d1-42a6-b74f-843ee8610aad",
   "metadata": {},
   "source": [
    "# updating the paramaters using gradient descent equations"
   ]
  },
  {
   "cell_type": "code",
   "execution_count": 47,
   "id": "97968cee-a10d-4928-a86a-a8ffba469560",
   "metadata": {},
   "outputs": [],
   "source": [
    "# defining the learning rate\n",
    "lr=0.1"
   ]
  },
  {
   "cell_type": "code",
   "execution_count": 48,
   "id": "86fab55f-88b4-4df5-9f9f-23ce6b7fa448",
   "metadata": {},
   "outputs": [
    {
     "data": {
      "text/plain": [
       "array([[0.79945671],\n",
       "       [0.66130177],\n",
       "       [0.63019187]])"
      ]
     },
     "execution_count": 48,
     "metadata": {},
     "output_type": "execute_result"
    }
   ],
   "source": [
    "# initial who and wih\n",
    "w_ho"
   ]
  },
  {
   "cell_type": "code",
   "execution_count": 49,
   "id": "aa133d65-0b6a-4bab-bdca-616500c5f368",
   "metadata": {},
   "outputs": [
    {
     "data": {
      "text/plain": [
       "array([[0.36973905, 0.04493186, 0.93836366],\n",
       "       [0.40531268, 0.35360407, 0.10756895],\n",
       "       [0.43267718, 0.80649754, 0.34207416],\n",
       "       [0.0016328 , 0.64609625, 0.69069454]])"
      ]
     },
     "execution_count": 49,
     "metadata": {},
     "output_type": "execute_result"
    }
   ],
   "source": [
    "w_ih"
   ]
  },
  {
   "cell_type": "code",
   "execution_count": 53,
   "id": "cbca7b75-6df8-41fd-9ecf-96dc3dfc9982",
   "metadata": {
    "scrolled": true
   },
   "outputs": [
    {
     "data": {
      "text/plain": [
       "array([[0.7985325 ],\n",
       "       [0.66015542],\n",
       "       [0.62920406]])"
      ]
     },
     "execution_count": 53,
     "metadata": {},
     "output_type": "execute_result"
    }
   ],
   "source": [
    "#updating the weights of output layers who\n",
    "w_ho = w_ho - lr * error_wrt_who\n",
    "w_ho"
   ]
  },
  {
   "cell_type": "code",
   "execution_count": 52,
   "id": "ac9f4b39-3605-476e-8ff1-8d772a6d7f34",
   "metadata": {},
   "outputs": [
    {
     "data": {
      "text/plain": [
       "array([[0.36981388, 0.04497515, 0.9383933 ],\n",
       "       [0.40506831, 0.3534384 , 0.10739709],\n",
       "       [0.43275201, 0.80654083, 0.3421038 ],\n",
       "       [0.00146325, 0.64597387, 0.69055232]])"
      ]
     },
     "execution_count": 52,
     "metadata": {},
     "output_type": "execute_result"
    }
   ],
   "source": [
    "#updating the weights of output layers wih\n",
    "w_ih = w_ih - lr * error_wrt_wih\n",
    "w_ih"
   ]
  },
  {
   "cell_type": "markdown",
   "id": "5c64c0c9-4a3d-482e-a55a-38c9727dd776",
   "metadata": {},
   "source": [
    "# training the model for n epochs"
   ]
  },
  {
   "cell_type": "code",
   "execution_count": 93,
   "id": "efe14f65-6df7-4a53-b1a8-c629034c7b8e",
   "metadata": {},
   "outputs": [],
   "source": [
    "#defining the model architecture\n",
    "\n",
    "inputlayer_neurons = X.shape[0] # number of features in the data set\n",
    "hiddenlayer_neurons = 3 # number of hidden layers neurons\n",
    "output_layer = 1 # number of neurons at output layer\n",
    "\n",
    "# initializing the weights\n",
    "# shape of W_ih should be number of neurons at the input layer x number of neurons at the hidden layer\n",
    "w_ih=np.random.uniform(size=(inputlayer_neurons,hiddenlayer_neurons))\n",
    "# shape of W_ho should be number of neurons at the hidden layer x number of neurons at the output layer\n",
    "w_ho=np.random.uniform(size=(hiddenlayer_neurons,output_layer))\n",
    "\n",
    "#defining parameters\n",
    "\n",
    "lr = 0.1\n",
    "epochs = 1000"
   ]
  },
  {
   "cell_type": "code",
   "execution_count": 94,
   "id": "145006bf-5801-42e0-8645-29e2c8a9c750",
   "metadata": {},
   "outputs": [
    {
     "data": {
      "text/plain": [
       "array([[0.35706007, 0.95640172, 0.89556204],\n",
       "       [0.06808267, 0.28126613, 0.00951703],\n",
       "       [0.6628369 , 0.77416517, 0.02832564],\n",
       "       [0.53402984, 0.38706203, 0.69062266]])"
      ]
     },
     "execution_count": 94,
     "metadata": {},
     "output_type": "execute_result"
    }
   ],
   "source": [
    "#initial w_ih and w_ho\n",
    "w_ih"
   ]
  },
  {
   "cell_type": "code",
   "execution_count": 95,
   "id": "b40414a5-deb2-4272-90ff-0cb6dcb5a72a",
   "metadata": {},
   "outputs": [
    {
     "data": {
      "text/plain": [
       "array([[0.91150805],\n",
       "       [0.18183589],\n",
       "       [0.12940475]])"
      ]
     },
     "execution_count": 95,
     "metadata": {},
     "output_type": "execute_result"
    }
   ],
   "source": [
    "w_ho"
   ]
  },
  {
   "cell_type": "code",
   "execution_count": 96,
   "id": "f1120286-e551-4d1e-adf6-9cd926567ee6",
   "metadata": {},
   "outputs": [],
   "source": [
    "error_epoch=[]\n",
    "for i in range (epochs):\n",
    "    #forward propogation part\n",
    "\n",
    "    #hidden layer accitivations\n",
    "    hidden_layer_input=np.dot(w_ih.T,X) \n",
    "    hiddenlayer_activations = sigmoid(hidden_layer_input)\n",
    "\n",
    "    # calculating the output\n",
    "    output_layer_input=np.dot(w_ho.T,hiddenlayer_activations)\n",
    "    output = sigmoid(output_layer_input)\n",
    "\n",
    "    #backward propogation\n",
    "\n",
    "    #calculating error\n",
    "    error = np.square(Y-output)/2\n",
    "    error_wrt_OUTPUT= -(Y-output)\n",
    "    output_wrt_z2 = np.multiply(output,(1-output))\n",
    "    z2_wrt_who = hiddenlayer_activations\n",
    "\n",
    "    #rate of change of error w.r.t weights between hidden layer and output layer\n",
    "    error_wrt_who = np.dot(z2_wrt_who ,(error_wrt_OUTPUT * output_wrt_z2).T)\n",
    "\n",
    "    #rate of change of error w.r.t weights between input layer and hidden layer\n",
    "    error_wrt_wih = np.dot(z1_wrt_wih,(h1_wrt_z1*np.dot(z2_wrt_h1,(output_wrt_z2*error_wrt_OUTPUT))).T) \n",
    "\n",
    "    #updating parameter for output layer who\n",
    "    w_ho = w_ho - lr * error_wrt_who\n",
    "\n",
    "    #updating parameter for input layer wih\n",
    "    w_ih = w_ih - lr * error_wrt_wih\n",
    "\n",
    "    # appending  the error of each epoch\n",
    "    error_epoch.append(np.average(error))"
   ]
  },
  {
   "cell_type": "code",
   "execution_count": 97,
   "id": "ca9a7298-2e80-4224-b6fa-28ccfd6b55aa",
   "metadata": {},
   "outputs": [
    {
     "data": {
      "text/plain": [
       "array([[ 1.28556246,  1.4935844 ,  1.26332898],\n",
       "       [-2.63641774, -1.55222731, -1.89243341],\n",
       "       [ 1.5913393 ,  1.31134785,  0.39609259],\n",
       "       [-1.24196817, -0.90924873, -0.84356084]])"
      ]
     },
     "execution_count": 97,
     "metadata": {},
     "output_type": "execute_result"
    }
   ],
   "source": [
    "w_ih"
   ]
  },
  {
   "cell_type": "code",
   "execution_count": 98,
   "id": "dac66a89-d763-49d0-be9e-06ded5c8d7c7",
   "metadata": {},
   "outputs": [
    {
     "data": {
      "text/plain": [
       "array([[2.18544289],\n",
       "       [0.37779749],\n",
       "       [0.14089639]])"
      ]
     },
     "execution_count": 98,
     "metadata": {},
     "output_type": "execute_result"
    }
   ],
   "source": [
    "w_ho"
   ]
  },
  {
   "cell_type": "code",
   "execution_count": 99,
   "id": "6415e247-c02b-4621-a467-ada9016f71ef",
   "metadata": {},
   "outputs": [
    {
     "data": {
      "text/plain": [
       "[<matplotlib.lines.Line2D at 0x1c451689f50>]"
      ]
     },
     "execution_count": 99,
     "metadata": {},
     "output_type": "execute_result"
    },
    {
     "data": {
      "image/png": "[encoded data removed]",
      "text/plain": [
       "<Figure size 640x480 with 1 Axes>"
      ]
     },
     "metadata": {},
     "output_type": "display_data"
    }
   ],
   "source": [
    "#visualize the error after each epoch\n",
    "plt.plot(np.arange(1,epochs+1),np.array(error_epoch))"
   ]
  },
  {
   "cell_type": "code",
   "execution_count": 100,
   "id": "0293c2fd-1aae-4a35-8801-991767283f66",
   "metadata": {},
   "outputs": [
    {
     "data": {
      "text/plain": [
       "array([[0.90500452, 0.90500452, 0.52069023]])"
      ]
     },
     "execution_count": 100,
     "metadata": {},
     "output_type": "execute_result"
    }
   ],
   "source": [
    "output"
   ]
  },
  {
   "cell_type": "code",
   "execution_count": 101,
   "id": "e88a8943-288d-48ec-9d01-e21afa0557b2",
   "metadata": {},
   "outputs": [
    {
     "data": {
      "text/plain": [
       "array([[1, 1, 0]])"
      ]
     },
     "execution_count": 101,
     "metadata": {},
     "output_type": "execute_result"
    }
   ],
   "source": [
    "Y"
   ]
  },
  {
   "cell_type": "code",
   "execution_count": 102,
   "id": "a7d10601-4643-4620-a137-a172805fbb37",
   "metadata": {},
   "outputs": [
    {
     "data": {
      "text/plain": [
       "array([[0.00451207, 0.00451207, 0.13555916]])"
      ]
     },
     "execution_count": 102,
     "metadata": {},
     "output_type": "execute_result"
    }
   ],
   "source": [
    "error"
   ]
  }
 ],
 "metadata": {
  "kernelspec": {
   "display_name": "Python 3 (ipykernel)",
   "language": "python",
   "name": "python3"
  },
  "language_info": {
   "codemirror_mode": {
    "name": "ipython",
    "version": 3
   },
   "file_extension": ".py",
   "mimetype": "text/x-python",
   "name": "python",
   "nbconvert_exporter": "python",
   "pygments_lexer": "ipython3",
   "version": "3.11.7"
  }
 },
 "nbformat": 4,
 "nbformat_minor": 5
}
